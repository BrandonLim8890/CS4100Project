{
 "cells": [
  {
   "cell_type": "code",
   "execution_count": 55,
   "id": "ac6453fb",
   "metadata": {},
   "outputs": [],
   "source": [
    "import requests\n",
    "from bs4 import BeautifulSoup\n",
    "import json\n",
    "import random\n",
    "\n",
    "# for authentication\n",
    "headers = ({'User-Agent':\n",
    "            'Mozilla/5.0 (Windows NT 10.0; Win64; x64) \\\n",
    "            AppleWebKit/537.36 (KHTML, like Gecko) \\\n",
    "            Chrome/90.0.4430.212 Safari/537.36',\n",
    "            'Accept-Language': 'en-US, en;q=0.5'})\n",
    "\n",
    "def get_reviews(keyword, n=5, k=7):\n",
    "    \"\"\"\n",
    "    Get product review info for top n products with the given keyword from Amazon (warning: n > 5 takes a long time)\n",
    "    \n",
    "    Args:\n",
    "        keyword (str): product to search for\n",
    "        n (int): number of products to get reviews from\n",
    "        k (int): number of reviews to get per product\n",
    "    \n",
    "    Returns:\n",
    "        product_dict (dict[str:[str]]): product names (keys) mapped to lists review info (values)\n",
    "    \n",
    "    \"\"\"\n",
    "    # compile product names and review info here\n",
    "    product_dict = {}\n",
    "\n",
    "    \n",
    "    # search for product on amazon and get html response\n",
    "    url = f'https://www.amazon.com/s?k={keyword}'\n",
    "    html = requests.get(url, headers=headers).text\n",
    "    \n",
    "    \n",
    "    # get the first page of products returned by amazon search\n",
    "    products = BeautifulSoup(html).find_all(class_='a-link-normal s-underline-text s-underline-link-text s-link-style a-text-normal')\n",
    "    \n",
    "    \n",
    "    # USE THIS CLASS FOR REVIEW TITLES\n",
    "    titles = 'a-size-base a-link-normal review-title a-color-base review-title-content a-text-bold'\n",
    "    \n",
    "    # USE THIS CLASS FOR REVIEW TEXT \n",
    "    # (doesn't get the entire review if it's too long, would have to visit each review's page making it way too slow)\n",
    "    texts = 'a-size-base review-text'\n",
    "    \n",
    "    # get random sample of products (if there are enough of them)\n",
    "    if len(products) >= n:\n",
    "        products = random.sample(products, k=n)\n",
    "    \n",
    "    for product in products:\n",
    "            \n",
    "        href = product.attrs['href']\n",
    "        product_url = f'https://www.amazon.com/{href}'\n",
    "        product_html = requests.get(product_url, headers=headers).text\n",
    "        \n",
    "        product_title = BeautifulSoup(product_html).find(id='productTitle').text.strip()\n",
    "        review_data = []\n",
    "        \n",
    "        # pass either titles or texts to 'class_=' param \n",
    "        reviews = BeautifulSoup(product_html).find_all(class_=texts)\n",
    "        \n",
    "        # get random sample of reviews (if there are enough of them)\n",
    "        if len(reviews) >= k:\n",
    "            reviews = random.sample(reviews, k=k)\n",
    "    \n",
    "        for r in reviews:\n",
    "            # clean up review text\n",
    "            r = r.text.strip().replace('\\n', ' ').replace('Read more', '')\n",
    "            review_data.append(r.encode(\"ascii\", \"ignore\").decode())\n",
    "            \n",
    "        product_dict[product_title] = review_data\n",
    "        \n",
    "        \n",
    "    return product_dict\n",
    "        \n",
    "   \n",
    "x = get_reviews('soccer ball', )"
   ]
  },
  {
   "cell_type": "code",
   "execution_count": 56,
   "id": "982a3402",
   "metadata": {},
   "outputs": [
    {
     "data": {
      "text/plain": [
       "'{\"GlowCity Glow in The Dark Soccer Ball- Light Up, Indoor or Outdoor Soccer Balls with 2 LED Lights and Pre-Installed Batteries - Gift Ideas for Teen Boys and Girls\\\\ufeff (Official (Size 5), Red)\": [\"So cool, wish I had an image to show. Cool gift for late night practice. Glows well. \", \"Couldn\\'t recommend this more highly son loved this so much \", \"The ball arrived on time for a (42nd!) birthday present and we have been really impressed with it so far.  Great for a kick about at dusk or night time and the fact that you can only see the ball makes it a really good fun ( avoid playing near obstacles / cliff edges ideally ).  Make sure you have a pump and needle adapter as it arrives deflated so you\\'ll need to pump it up before you can use it.  Also although this looks like a traditional football it\\'s basically a single skin rubber ball with printed panels, this is not a criticism, it\\'s a thick skin and I don\\'t expect it would pop easily but just be prepared that it sounds a bit like a beach ball when you kick it.  We have used small glow footballs in the past but they didn\\'t last long (panels came unglued and LEDs failed after a while). This one seems much better quality so I\\'m optimistic that it will last longer, time will tell. \", \"This was a fun gift but they are not super durable \", \"the glow is very noticeable. easy to put new batteries and comes with plenty of extra batteries \", \"Although it works as described, it is unlike a soccer ball, in that, it\\'s more like plastic. It is hard and doesn\\'t give when kicked. It\\'s ok for playful kicking out back, but not hard soccer kicks from 25 yards out. More of a novelty than an actual soccer ball. \", \"I have a Scottish Terrier whose favorite toy is a soccer ball to push and chase around the yard. He destroyed a 3 inch size from Walmart in about 1.5 hours.  So I bought this 5\\\\\" ball due to the lights so he could also play at night this winter. The ball itself feels more like rubber than a hard official soccer ball. Since it was (I thought) so big he couldn\\'t get his mouth around it enough to bite, I inflated it and off he went--supervised. With 1 hour he managed to pierce it and it\\'s deflated now. He is quite proud of that! Going to try to patch it and use it again. However, I would not recommend it if your dog has a long snout and is prey driven. If you have kids, teens, even adults that like to kick a ball around--this is a good one! \"], \"Nike Academy - Team\": [\"I thought I\\'d ordered two of these footballs and and  it was shown on my amazon Orders page that was the case. Hhowever  supplier said I onlyordered one football and that is why they just sent one. I don\\'t know whast has gone wrong here as thia is the first time such a thing has happened. If the seller is jcorrect nding just oneAmazon mut be wrong beilling me for two (if they have)because I haven\\'t checked my bank statemdent yet). Will soeone please let me know what is right and ensure I\\'m only charged for one ball.By the way the football is exactly what my grandson wanted so I\\'ll order another one if I\\'ve only been charged for one.Thanks in anticipation of your help Harry Blain. \", \"el balon no es como yo esperaba ,pues es de muy mala calidad ,porque se esta habriendo de las costuras en solamente 3 usos que le e dado ,no estoy de acuerdo con lo que disen de la caliodadgracias \", \"Ordered a size 5, which usually comes as the size of a normal adult football, when it arrived and afte being fully pumped the ball seemed smaller than usual either a size 3 or 4, after doing a few kicks around in the garden the ball also ripped, \", \"Bought it for my daughter who plays travel soccer, she seems to like it. \", \"This is a great ball at a great price. It\\'s got a nice texture so it sticks to the feet, and a nice bounce. The only problem is it\\'s a bit light and goes FLYING sometimes when you don\\'t want it to. \", \"price is a bit high but a very good quality ball \", \"Good \"], \"GoSports Classic Soccer Ball with Premium Pump - Available as Single Balls or 6 Pack - Choose Your Size\": [\"We bought this ball to pack into our Samaritans purse ShoeBox drive and all of it fit perfectly well with many other things in the box. What an amazing idea to have the pump, the ball is good quality. Looked for this everywhere but couldnt find it except here. GoSports was the only place! So excited it could easily fit in the shoebox without compromising other gifts. Cant wait for a lil guy to receive it! \", \"Good basic soccer ball here, nothing fancy but it gets the job done.  The size four ball is the perfect size for my nine year old son.  Tremendous value (about 14 bucks at time of purchase) and less expensive than other brands, particularly the name brands.  The inclusion of a hand pump is a bonus, and while I already had one, having an extra on hand could be handy I suppose.  Recommend. \", \"This is a gift so I cant speak to quality/durability but it feels like a good middle of the road ball. Not the cheapest out there but obviously not top quality either. I hope it holds up well.I bought this for Christmas shoeboxes. Helps to put stuff inside it to make more room in the box. I put a shirt, collapsible water bottle and the pump in it. Still had room to fit Sandals, toothbrush, washrag and a pair of shorts. Fit tight but got it all in. \", \"Ordered size 3 for our 2 yr old son to practice kicking around. He enjoys playing with it everyday. The ball arrived in perfect condition with a pump and is of very good quality. I love the original print/design and I plan to purchase more products from this company. \", \"Ordered to put in Box of Joy for charity Christmas gift.  It was just the right size to fit in the shoebox and looks to be durable. I like that it came with a pump.  What is also cool is that this company donates a ball to kids in need!  Highly recommend Go Sports.PaulettePSL, FL \", \"We got these to fill Operation Christmas Child Shoe Boxes and they worked perfectly. Come with a pump so don\\'t have to worry about ball going flat and kids not having the means to fill it back up. The price is great and the pump quality seemed a little cheap but worked fine. The ball itself seemed to hold. Happy with the product overall \", \"Every year I buy soccer balls each with its own pump from Go Sports to donate to the Samaritan\\'s Purse Operation Christmas Child Campaign.  These soccer balls are high quality - I have several of my own that my grandchildren play with.  They are also highly prized by children in parts of the world who normally don\\'t even get one Christmas present.  They are very tough and durable balls and are inflated easily with the accompanying pump.  I highly recommend these soccer balls for families and for gift giving to charities.  For every ball purchased Go Sports will donate one ball to the Boys and Girls club donation program.  I am counting on them donating 7 on my behalf this year because that is the number of balls I have purchased in 2022.Thanks Gosports.Brad MacDonaldSaskatchewan Canada. \"], \"Western Star Soccer Ball Size 3 & Size 4 & Size 5 - Official Match Weight - 5 Colors - Youth & Adult Soccer Players - Helix Design - Durable, Long-Lasting Construction & Attractive Soccer Balls\": [\"Will be for Xmas.  Looks good \", \"My 10 year old son loves this ball \", \"Liked. The color.  But air did not last. \", \"Great ball, holds up great. Does not come inflated, make sure you have the proper tool to inflate. \", \"A gift for grandsons birthday \", \"My daughters loved this ball. Excellent product. \", \"My 8 year old son uses this soccer ball. It is of excellent quality, very durable, I love the bright color as it is easy to identify where his ball is from all the others. \"], \"Barocity Soccer Ball - Premium Boy and Girl Official Match Ball with Cool Reflective Rainbow Hex Pattern, Durable, Indoor, Outdoor, Training, Practice, Playtime and Games - Iridescent\": [\"Updated based on customer services response.I bought 4 of these soccer balls for my soccer team. The kids really liked the feel of them. Unfortunately, 3 of the 4 are falling apart as you can see from the pictures. I was very disappointed. Two of the soccer balls I had only a month and the others a little longer. However, customer service was great and offered to refund me or replace them. I opted to replace because we really liked the soccer balls. \", \"Its round and it works! \", \"Fast shipment! Plus, the soccer ball does all the things a soccer ball should do (kicks well, stays inflated, etc).  Very happy with this purchase. \", \"The ball came flat an was cheaply made \", \"Adorable pink soccer ball for my 4 year old granddaughter - she loved it!! \", \"Good soccer ball. Note it does NOT come with a pump to inflate though. \", \"Get a pump too while youre at it. \"]}'"
      ]
     },
     "execution_count": 56,
     "metadata": {},
     "output_type": "execute_result"
    }
   ],
   "source": [
    "json.dumps(x)"
   ]
  },
  {
   "cell_type": "code",
   "execution_count": null,
   "id": "5b65706a",
   "metadata": {},
   "outputs": [],
   "source": []
  }
 ],
 "metadata": {
  "kernelspec": {
   "display_name": "Python 3 (ipykernel)",
   "language": "python",
   "name": "python3"
  },
  "language_info": {
   "codemirror_mode": {
    "name": "ipython",
    "version": 3
   },
   "file_extension": ".py",
   "mimetype": "text/x-python",
   "name": "python",
   "nbconvert_exporter": "python",
   "pygments_lexer": "ipython3",
   "version": "3.8.13"
  }
 },
 "nbformat": 4,
 "nbformat_minor": 5
}

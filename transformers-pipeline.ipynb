{
 "cells": [
  {
   "cell_type": "code",
   "execution_count": 1,
   "metadata": {},
   "outputs": [],
   "source": [
    "from transformers import pipeline\n",
    "\n",
    "sent_pipeline = pipeline(\"sentiment-analysis\")"
   ]
  },
  {
   "cell_type": "code",
   "execution_count": 5,
   "metadata": {},
   "outputs": [
    {
     "data": {
      "text/plain": [
       "[{'label': 'NEGATIVE', 'score': 0.999771773815155}]"
      ]
     },
     "execution_count": 5,
     "metadata": {},
     "output_type": "execute_result"
    }
   ],
   "source": [
    "sent_pipeline('They dried out really quickly. Pretty bad quality when half the box dried out within a month of getting them.')"
   ]
  },
  {
   "cell_type": "code",
   "execution_count": 7,
   "metadata": {},
   "outputs": [
    {
     "data": {
      "text/plain": [
       "[{'label': 'POSITIVE', 'score': 0.9998475909233093}]"
      ]
     },
     "execution_count": 7,
     "metadata": {},
     "output_type": "execute_result"
    }
   ],
   "source": [
    "sent_pipeline('These Arteza Markers works perfect with the custom dry erase signs I purchased at Awe Snap Crafts. I purchase these markers along with custom handwriting sign for my daycare and the children loves them.  The markers are very vibrant and easy to work with.')"
   ]
  },
  {
   "cell_type": "code",
   "execution_count": 4,
   "metadata": {},
   "outputs": [
    {
     "data": {
      "text/plain": [
       "[{'label': 'POSITIVE', 'score': 0.5696414709091187}]"
      ]
     },
     "execution_count": 4,
     "metadata": {},
     "output_type": "execute_result"
    }
   ],
   "source": [
    "sent_pipeline('I love using these in my classroom. They work well for my students and my first set lasted almost the entire year. Its easy to see when they need to be thrown away. On some surfaces they can be hard to erase if left on for a while. I try not to use them if Im writing an anchor chart on my whiteboard.')"
   ]
  },
  {
   "cell_type": "code",
   "execution_count": 2,
   "metadata": {},
   "outputs": [
    {
     "name": "stdout",
     "output_type": "stream",
     "text": [
      "(568454, 10)\n",
      "(500, 10)\n"
     ]
    }
   ],
   "source": [
    "import pandas as pd\n",
    "import numpy as np\n",
    "import matplotlib.pyplot as plt\n",
    "import seaborn as sns\n",
    "\n",
    "plt.style.use('ggplot')\n",
    "\n",
    "df = pd.read_csv('./input/Reviews.csv')\n",
    "print(df.shape)\n",
    "df = df.head(500)\n",
    "print(df.shape)"
   ]
  },
  {
   "cell_type": "code",
   "execution_count": 4,
   "metadata": {},
   "outputs": [
    {
     "data": {
      "application/vnd.jupyter.widget-view+json": {
       "model_id": "64409f1a60054870bd80ab5df96e4c02",
       "version_major": 2,
       "version_minor": 0
      },
      "text/plain": [
       "  0%|          | 0/500 [00:00<?, ?it/s]"
      ]
     },
     "metadata": {},
     "output_type": "display_data"
    },
    {
     "name": "stdout",
     "output_type": "stream",
     "text": [
      "Broke for id 83\n",
      "Broke for id 187\n"
     ]
    }
   ],
   "source": [
    "from tqdm.notebook import tqdm\n",
    "\n",
    "res = {}\n",
    "for i, row in tqdm(df.iterrows(), total=len(df)):\n",
    "    try:\n",
    "        text = row['Text']\n",
    "        myid = row['Id']\n",
    "        res[myid]\n",
    "        res[myid] = sent_pipeline(text)[0]\n",
    "    except IndexError:\n",
    "        print(f'Broke for id {myid}')"
   ]
  },
  {
   "cell_type": "code",
   "execution_count": 5,
   "metadata": {},
   "outputs": [
    {
     "name": "stdout",
     "output_type": "stream",
     "text": [
      "<bound method NDFrame.head of       Id     label     score   ProductId          UserId  \\\n",
      "0      1  POSITIVE  0.998385  B001E4KFG0  A3SGXH7AUHU8GW   \n",
      "1      2  NEGATIVE  0.999525  B00813GRG4  A1D87F6ZCVE5NK   \n",
      "2      3  POSITIVE  0.999765  B000LQOCH0   ABXLMWJIXXAIN   \n",
      "3      4  POSITIVE  0.999153  B000UA0QIQ  A395BORC6FGVXV   \n",
      "4      5  POSITIVE  0.998708  B006K2ZZ7K  A1UQRSCLF8GW1T   \n",
      "..   ...       ...       ...         ...             ...   \n",
      "493  496  POSITIVE   0.99986  B000G6RYNE   APGAA43E3WPN7   \n",
      "494  497  POSITIVE  0.999754  B000G6RYNE    ABR7HU5H1KNE   \n",
      "495  498  POSITIVE  0.999425  B000G6RYNE   AJQD2WWJYOYFQ   \n",
      "496  499  POSITIVE  0.992952  B000G6RYNE  A16YH487W9ZYO0   \n",
      "497  500  POSITIVE  0.999796  B000G6RYNE   A83YQC1XOU4CS   \n",
      "\n",
      "                         ProfileName  HelpfulnessNumerator  \\\n",
      "0                         delmartian                     1   \n",
      "1                             dll pa                     0   \n",
      "2    Natalia Corres \"Natalia Corres\"                     1   \n",
      "3                               Karl                     3   \n",
      "4      Michael D. Bigham \"M. Wassir\"                     0   \n",
      "..                               ...                   ...   \n",
      "493                           Darren                     0   \n",
      "494                            Keith                     0   \n",
      "495                          bubbles                     0   \n",
      "496                 Bruce G. Lindsay                     0   \n",
      "497                         J. Baker                     0   \n",
      "\n",
      "     HelpfulnessDenominator  Score        Time  \\\n",
      "0                         1      5  1303862400   \n",
      "1                         0      1  1346976000   \n",
      "2                         1      4  1219017600   \n",
      "3                         3      2  1307923200   \n",
      "4                         0      5  1350777600   \n",
      "..                      ...    ...         ...   \n",
      "493                       0      5  1201392000   \n",
      "494                       0      5  1196726400   \n",
      "495                       0      4  1186617600   \n",
      "496                       0      4  1184198400   \n",
      "497                       0      5  1183420800   \n",
      "\n",
      "                             Summary  \\\n",
      "0              Good Quality Dog Food   \n",
      "1                  Not as Advertised   \n",
      "2              \"Delight\" says it all   \n",
      "3                     Cough Medicine   \n",
      "4                        Great taffy   \n",
      "..                               ...   \n",
      "493                    amazing chips   \n",
      "494                   Best Chip Ever   \n",
      "495  Tangy, spicy, and sweet- oh my!   \n",
      "496        An indulgence with a bite   \n",
      "497                The best I've had   \n",
      "\n",
      "                                                  Text  \n",
      "0    I have bought several of the Vitality canned d...  \n",
      "1    Product arrived labeled as Jumbo Salted Peanut...  \n",
      "2    This is a confection that has been around a fe...  \n",
      "3    If you are looking for the secret ingredient i...  \n",
      "4    Great taffy at a great price.  There was a wid...  \n",
      "..                                                 ...  \n",
      "493  i rarely eat chips but i saw these and tried t...  \n",
      "494  This is easily the best potato chip that I hav...  \n",
      "495  Kettle Chips Spicy Thai potato chips have the ...  \n",
      "496  Okay, I should not eat potato chips, nor shoul...  \n",
      "497  I don't write very many reviews but I have to ...  \n",
      "\n",
      "[498 rows x 12 columns]>\n"
     ]
    }
   ],
   "source": [
    "results_df = pd.DataFrame(res).T\n",
    "results_df = results_df.reset_index().rename(columns={'index': 'Id'})\n",
    "results_df = results_df.merge(df, how='left')\n",
    "print(results_df.head)"
   ]
  }
 ],
 "metadata": {
  "kernelspec": {
   "display_name": "Python 3.6.13 ('AI')",
   "language": "python",
   "name": "python3"
  },
  "language_info": {
   "codemirror_mode": {
    "name": "ipython",
    "version": 3
   },
   "file_extension": ".py",
   "mimetype": "text/x-python",
   "name": "python",
   "nbconvert_exporter": "python",
   "pygments_lexer": "ipython3",
   "version": "3.6.13"
  },
  "orig_nbformat": 4,
  "vscode": {
   "interpreter": {
    "hash": "865841bdaff79567fc787d46299cf611ac7f2842b60bd2a90a606c1e468d6a09"
   }
  }
 },
 "nbformat": 4,
 "nbformat_minor": 2
}

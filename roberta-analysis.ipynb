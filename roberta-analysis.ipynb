{
 "cells": [
  {
   "cell_type": "code",
   "execution_count": 11,
   "metadata": {},
   "outputs": [
    {
     "name": "stderr",
     "output_type": "stream",
     "text": [
      "Some weights of RobertaForSequenceClassification were not initialized from the model checkpoint at cardiffnlp/twitter-roberta-base-sentiment and are newly initialized: ['roberta.pooler.dense.weight', 'roberta.pooler.dense.bias']\n",
      "You should probably TRAIN this model on a down-stream task to be able to use it for predictions and inference.\n"
     ]
    }
   ],
   "source": [
    "from transformers import AutoTokenizer\n",
    "from transformers import RobertaForSequenceClassification\n",
    "from scipy.special import softmax\n",
    "\n",
    "MODEL= f\"cardiffnlp/twitter-roberta-base-sentiment\"\n",
    "tokenizer = AutoTokenizer.from_pretrained(MODEL)\n",
    "model = RobertaForSequenceClassification.from_pretrained(MODEL, num_labels=3)"
   ]
  },
  {
   "cell_type": "code",
   "execution_count": 18,
   "metadata": {},
   "outputs": [
    {
     "name": "stdout",
     "output_type": "stream",
     "text": [
      "(568454, 10)\n",
      "(500, 10)\n"
     ]
    }
   ],
   "source": [
    "import pandas as pd\n",
    "import numpy as np\n",
    "import matplotlib.pyplot as plt\n",
    "import seaborn as sns\n",
    "\n",
    "plt.style.use('ggplot')\n",
    "\n",
    "df = pd.read_csv('./input/Reviews.csv')\n",
    "print(df.shape)\n",
    "df = df.head(500)\n",
    "print(df.shape)"
   ]
  },
  {
   "cell_type": "code",
   "execution_count": 21,
   "metadata": {},
   "outputs": [
    {
     "data": {
      "application/vnd.jupyter.widget-view+json": {
       "model_id": "8eee178956064f50b48f6c8f7ebdc6eb",
       "version_major": 2,
       "version_minor": 0
      },
      "text/plain": [
       "  0%|          | 0/500 [00:00<?, ?it/s]"
      ]
     },
     "metadata": {},
     "output_type": "display_data"
    },
    {
     "name": "stdout",
     "output_type": "stream",
     "text": [
      "Broke for id 83\n",
      "Broke for id 187\n"
     ]
    }
   ],
   "source": [
    "from tqdm.notebook import tqdm\n",
    "\n",
    "res = {}\n",
    "for i, row in tqdm(df.iterrows(), total=len(df)):\n",
    "    try:\n",
    "        text = row['Text']\n",
    "        myid = row['Id']\n",
    "        res[myid] = polarity_scores_roberta(text)\n",
    "    except IndexError:\n",
    "        print(f'Broke for id {myid}')"
   ]
  },
  {
   "cell_type": "code",
   "execution_count": 22,
   "metadata": {},
   "outputs": [],
   "source": [
    "results_df = pd.DataFrame(res).T\n",
    "results_df = results_df.reset_index().rename(columns={'index': 'Id'})\n",
    "results_df = results_df.merge(df, how='left')"
   ]
  },
  {
   "cell_type": "code",
   "execution_count": 25,
   "metadata": {},
   "outputs": [
    {
     "name": "stdout",
     "output_type": "stream",
     "text": [
      "<bound method NDFrame.head of       Id  roberta_neg  roberta_neu  roberta_pos   ProductId          UserId  \\\n",
      "0      1     0.009624     0.049980     0.940395  B001E4KFG0  A3SGXH7AUHU8GW   \n",
      "1      2     0.508986     0.452414     0.038600  B00813GRG4  A1D87F6ZCVE5NK   \n",
      "2      3     0.003229     0.098067     0.898704  B000LQOCH0   ABXLMWJIXXAIN   \n",
      "3      4     0.002295     0.090219     0.907486  B000UA0QIQ  A395BORC6FGVXV   \n",
      "4      5     0.001635     0.010302     0.988063  B006K2ZZ7K  A1UQRSCLF8GW1T   \n",
      "..   ...          ...          ...          ...         ...             ...   \n",
      "493  496     0.001906     0.009862     0.988232  B000G6RYNE   APGAA43E3WPN7   \n",
      "494  497     0.004415     0.034215     0.961369  B000G6RYNE    ABR7HU5H1KNE   \n",
      "495  498     0.006427     0.074537     0.919036  B000G6RYNE   AJQD2WWJYOYFQ   \n",
      "496  499     0.865614     0.119366     0.015020  B000G6RYNE  A16YH487W9ZYO0   \n",
      "497  500     0.002440     0.011327     0.986233  B000G6RYNE   A83YQC1XOU4CS   \n",
      "\n",
      "                         ProfileName  HelpfulnessNumerator  \\\n",
      "0                         delmartian                     1   \n",
      "1                             dll pa                     0   \n",
      "2    Natalia Corres \"Natalia Corres\"                     1   \n",
      "3                               Karl                     3   \n",
      "4      Michael D. Bigham \"M. Wassir\"                     0   \n",
      "..                               ...                   ...   \n",
      "493                           Darren                     0   \n",
      "494                            Keith                     0   \n",
      "495                          bubbles                     0   \n",
      "496                 Bruce G. Lindsay                     0   \n",
      "497                         J. Baker                     0   \n",
      "\n",
      "     HelpfulnessDenominator  Score        Time  \\\n",
      "0                         1      5  1303862400   \n",
      "1                         0      1  1346976000   \n",
      "2                         1      4  1219017600   \n",
      "3                         3      2  1307923200   \n",
      "4                         0      5  1350777600   \n",
      "..                      ...    ...         ...   \n",
      "493                       0      5  1201392000   \n",
      "494                       0      5  1196726400   \n",
      "495                       0      4  1186617600   \n",
      "496                       0      4  1184198400   \n",
      "497                       0      5  1183420800   \n",
      "\n",
      "                             Summary  \\\n",
      "0              Good Quality Dog Food   \n",
      "1                  Not as Advertised   \n",
      "2              \"Delight\" says it all   \n",
      "3                     Cough Medicine   \n",
      "4                        Great taffy   \n",
      "..                               ...   \n",
      "493                    amazing chips   \n",
      "494                   Best Chip Ever   \n",
      "495  Tangy, spicy, and sweet- oh my!   \n",
      "496        An indulgence with a bite   \n",
      "497                The best I've had   \n",
      "\n",
      "                                                  Text  \n",
      "0    I have bought several of the Vitality canned d...  \n",
      "1    Product arrived labeled as Jumbo Salted Peanut...  \n",
      "2    This is a confection that has been around a fe...  \n",
      "3    If you are looking for the secret ingredient i...  \n",
      "4    Great taffy at a great price.  There was a wid...  \n",
      "..                                                 ...  \n",
      "493  i rarely eat chips but i saw these and tried t...  \n",
      "494  This is easily the best potato chip that I hav...  \n",
      "495  Kettle Chips Spicy Thai potato chips have the ...  \n",
      "496  Okay, I should not eat potato chips, nor shoul...  \n",
      "497  I don't write very many reviews but I have to ...  \n",
      "\n",
      "[498 rows x 13 columns]>\n"
     ]
    }
   ],
   "source": [
    "print(results_df.head)"
   ]
  },
  {
   "cell_type": "code",
   "execution_count": 26,
   "metadata": {},
   "outputs": [
    {
     "data": {
      "image/png": "[encoded data removed]",
      "text/plain": [
       "<Figure size 864x216 with 3 Axes>"
      ]
     },
     "metadata": {},
     "output_type": "display_data"
    }
   ],
   "source": [
    "fig, axs = plt.subplots(1, 3, figsize=(12, 3))\n",
    "sns.barplot(data=results_df, x='Score', y='roberta_pos', ax=axs[0])\n",
    "sns.barplot(data=results_df, x='Score', y='roberta_neu', ax=axs[1])\n",
    "sns.barplot(data=results_df, x='Score', y='roberta_neg', ax=axs[2])\n",
    "axs[0].set_title('Positive')\n",
    "axs[1].set_title('Neutral')\n",
    "axs[2].set_title('Negative')\n",
    "plt.tight_layout()\n",
    "plt.show()\n"
   ]
  },
  {
   "cell_type": "code",
   "execution_count": 2,
   "metadata": {},
   "outputs": [],
   "source": [
    "# Run Roberta Model\n",
    "def polarity_scores_roberta(example):\n",
    "    encoded_text = tokenizer(example, return_tensors='pt')\n",
    "    output = model(**encoded_text)\n",
    "    scores = output[0][0].detach().numpy()\n",
    "    scores = softmax(scores)\n",
    "    scores_dict = {\n",
    "        'roberta_neg' : scores[0],\n",
    "        'roberta_neu' : scores[1],\n",
    "        'roberta_pos' : scores[2]\n",
    "    }\n",
    "    return scores_dict"
   ]
  },
  {
   "cell_type": "code",
   "execution_count": 3,
   "metadata": {},
   "outputs": [
    {
     "name": "stdout",
     "output_type": "stream",
     "text": [
      "{'roberta_neg': 0.9550338, 'roberta_neu': 0.04017315, 'roberta_pos': 0.0047932044}\n"
     ]
    }
   ],
   "source": [
    "print(polarity_scores_roberta('They dried out really quickly. Pretty bad quality when half the box dried out within a month of getting them.'))"
   ]
  },
  {
   "cell_type": "code",
   "execution_count": 4,
   "metadata": {},
   "outputs": [
    {
     "name": "stdout",
     "output_type": "stream",
     "text": [
      "{'roberta_neg': 0.0009269896, 'roberta_neu': 0.011523713, 'roberta_pos': 0.9875493}\n"
     ]
    }
   ],
   "source": [
    "print(polarity_scores_roberta('These Arteza Markers works perfect with the custom dry erase signs I purchased at Awe Snap Crafts. I purchase these markers along with custom handwriting sign for my daycare and the children loves them.  The markers are very vibrant and easy to work with.'))"
   ]
  },
  {
   "cell_type": "code",
   "execution_count": 5,
   "metadata": {},
   "outputs": [
    {
     "name": "stdout",
     "output_type": "stream",
     "text": [
      "{'roberta_neg': 0.03329607, 'roberta_neu': 0.10278754, 'roberta_pos': 0.8639165}\n"
     ]
    }
   ],
   "source": [
    "print(polarity_scores_roberta('I love using these in my classroom. They work well for my students and my first set lasted almost the entire year. Its easy to see when they need to be thrown away. On some surfaces they can be hard to erase if left on for a while. I try not to use them if Im writing an anchor chart on my whiteboard.'))"
   ]
  }
 ],
 "metadata": {
  "kernelspec": {
   "display_name": "Python 3.6.13 ('AI')",
   "language": "python",
   "name": "python3"
  },
  "language_info": {
   "codemirror_mode": {
    "name": "ipython",
    "version": 3
   },
   "file_extension": ".py",
   "mimetype": "text/x-python",
   "name": "python",
   "nbconvert_exporter": "python",
   "pygments_lexer": "ipython3",
   "version": "3.6.13"
  },
  "orig_nbformat": 4,
  "vscode": {
   "interpreter": {
    "hash": "865841bdaff79567fc787d46299cf611ac7f2842b60bd2a90a606c1e468d6a09"
   }
  }
 },
 "nbformat": 4,
 "nbformat_minor": 2
}
